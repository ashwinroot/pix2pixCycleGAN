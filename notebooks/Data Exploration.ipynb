{
 "cells": [
  {
   "cell_type": "markdown",
   "metadata": {},
   "source": [
    "##Wordnet exploration"
   ]
  },
  {
   "cell_type": "code",
   "execution_count": 33,
   "metadata": {},
   "outputs": [],
   "source": [
    "%matplotlib inline \n",
    "\n",
    "from nltk.corpus import wordnet as wn\n"
   ]
  },
  {
   "cell_type": "code",
   "execution_count": 8,
   "metadata": {},
   "outputs": [],
   "source": [
    "syns = list(wn.all_synsets())"
   ]
  },
  {
   "cell_type": "code",
   "execution_count": 58,
   "metadata": {},
   "outputs": [],
   "source": [
    "file = open('categories.txt','r')\n",
    "categories = []\n",
    "for line in file:\n",
    "    categories.append(line.strip())"
   ]
  },
  {
   "cell_type": "code",
   "execution_count": 62,
   "metadata": {},
   "outputs": [],
   "source": [
    "synsets = dict()\n",
    "for word in categories:\n",
    "    _syn = wn.synsets(word)\n",
    "    if _syn:\n",
    "        synsets[word] = [_syn[0],_syn[0].pos()+ str(ss.offset()).zfill(8)]"
   ]
  },
  {
   "cell_type": "code",
   "execution_count": 63,
   "metadata": {},
   "outputs": [
    {
     "data": {
      "text/plain": [
       "{'airplane': [Synset('airplane.n.01'), 'n02691156'],\n",
       " 'ambulance': [Synset('ambulance.n.01'), 'n02691156'],\n",
       " 'angel': [Synset('angel.n.01'), 'n02691156'],\n",
       " 'ant': [Synset('ant.n.01'), 'n02691156'],\n",
       " 'anvil': [Synset('anvil.n.01'), 'n02691156'],\n",
       " 'apple': [Synset('apple.n.01'), 'n02691156'],\n",
       " 'arm': [Synset('arm.n.01'), 'n02691156'],\n",
       " 'asparagus': [Synset('asparagus.n.01'), 'n02691156'],\n",
       " 'axe': [Synset('ax.n.01'), 'n02691156'],\n",
       " 'backpack': [Synset('backpack.n.01'), 'n02691156'],\n",
       " 'banana': [Synset('banana.n.01'), 'n02691156'],\n",
       " 'bandage': [Synset('bandage.n.01'), 'n02691156'],\n",
       " 'barn': [Synset('barn.n.01'), 'n02691156'],\n",
       " 'baseball': [Synset('baseball.n.01'), 'n02691156'],\n",
       " 'basket': [Synset('basket.n.01'), 'n02691156'],\n",
       " 'basketball': [Synset('basketball.n.01'), 'n02691156'],\n",
       " 'bat': [Synset('bat.n.01'), 'n02691156'],\n",
       " 'bathtub': [Synset('bathtub.n.01'), 'n02691156'],\n",
       " 'beach': [Synset('beach.n.01'), 'n02691156'],\n",
       " 'bear': [Synset('bear.n.01'), 'n02691156'],\n",
       " 'beard': [Synset('beard.n.01'), 'n02691156'],\n",
       " 'bed': [Synset('bed.n.01'), 'n02691156'],\n",
       " 'bee': [Synset('bee.n.01'), 'n02691156'],\n",
       " 'belt': [Synset('belt.n.01'), 'n02691156'],\n",
       " 'bench': [Synset('bench.n.01'), 'n02691156'],\n",
       " 'bicycle': [Synset('bicycle.n.01'), 'n02691156'],\n",
       " 'binoculars': [Synset('binoculars.n.01'), 'n02691156'],\n",
       " 'bird': [Synset('bird.n.01'), 'n02691156'],\n",
       " 'blackberry': [Synset('blackberry.n.01'), 'n02691156'],\n",
       " 'blueberry': [Synset('blueberry.n.01'), 'n02691156'],\n",
       " 'book': [Synset('book.n.01'), 'n02691156'],\n",
       " 'boomerang': [Synset('boomerang.n.01'), 'n02691156'],\n",
       " 'bottlecap': [Synset('bottlecap.n.01'), 'n02691156'],\n",
       " 'bowtie': [Synset('bow_tie.n.01'), 'n02691156'],\n",
       " 'bracelet': [Synset('watchband.n.01'), 'n02691156'],\n",
       " 'brain': [Synset('brain.n.01'), 'n02691156'],\n",
       " 'bread': [Synset('bread.n.01'), 'n02691156'],\n",
       " 'bridge': [Synset('bridge.n.01'), 'n02691156'],\n",
       " 'broccoli': [Synset('broccoli.n.01'), 'n02691156'],\n",
       " 'broom': [Synset('broom.n.01'), 'n02691156'],\n",
       " 'bucket': [Synset('bucket.n.01'), 'n02691156'],\n",
       " 'bulldozer': [Synset('bulldozer.n.01'), 'n02691156'],\n",
       " 'bus': [Synset('bus.n.01'), 'n02691156'],\n",
       " 'bush': [Synset('shrub.n.01'), 'n02691156'],\n",
       " 'butterfly': [Synset('butterfly.n.01'), 'n02691156'],\n",
       " 'cactus': [Synset('cactus.n.01'), 'n02691156'],\n",
       " 'cake': [Synset('cake.n.01'), 'n02691156'],\n",
       " 'calculator': [Synset('calculator.n.01'), 'n02691156'],\n",
       " 'calendar': [Synset('calendar.n.01'), 'n02691156'],\n",
       " 'camel': [Synset('camel.n.01'), 'n02691156'],\n",
       " 'camera': [Synset('camera.n.01'), 'n02691156'],\n",
       " 'camouflage': [Synset('disguise.n.01'), 'n02691156'],\n",
       " 'campfire': [Synset('campfire.n.01'), 'n02691156'],\n",
       " 'candle': [Synset('candle.n.01'), 'n02691156'],\n",
       " 'cannon': [Synset('cannon.n.01'), 'n02691156'],\n",
       " 'canoe': [Synset('canoe.n.01'), 'n02691156'],\n",
       " 'car': [Synset('car.n.01'), 'n02691156'],\n",
       " 'carrot': [Synset('carrot.n.01'), 'n02691156'],\n",
       " 'castle': [Synset('palace.n.01'), 'n02691156'],\n",
       " 'cat': [Synset('cat.n.01'), 'n02691156'],\n",
       " 'cello': [Synset('cello.n.01'), 'n02691156'],\n",
       " 'chair': [Synset('chair.n.01'), 'n02691156'],\n",
       " 'chandelier': [Synset('chandelier.n.01'), 'n02691156'],\n",
       " 'church': [Synset('church.n.01'), 'n02691156'],\n",
       " 'circle': [Synset('circle.n.01'), 'n02691156'],\n",
       " 'clarinet': [Synset('clarinet.n.01'), 'n02691156'],\n",
       " 'clock': [Synset('clock.n.01'), 'n02691156'],\n",
       " 'cloud': [Synset('cloud.n.01'), 'n02691156'],\n",
       " 'compass': [Synset('compass.n.01'), 'n02691156'],\n",
       " 'computer': [Synset('computer.n.01'), 'n02691156'],\n",
       " 'cookie': [Synset('cookie.n.01'), 'n02691156'],\n",
       " 'cooler': [Synset('cooler.n.01'), 'n02691156'],\n",
       " 'couch': [Synset('sofa.n.01'), 'n02691156'],\n",
       " 'cow': [Synset('cow.n.01'), 'n02691156'],\n",
       " 'crab': [Synset('crab.n.01'), 'n02691156'],\n",
       " 'crayon': [Synset('crayon.n.01'), 'n02691156'],\n",
       " 'crocodile': [Synset('crocodile.n.01'), 'n02691156'],\n",
       " 'crown': [Synset('crown.n.01'), 'n02691156'],\n",
       " 'cup': [Synset('cup.n.01'), 'n02691156'],\n",
       " 'diamond': [Synset('diamond.n.01'), 'n02691156'],\n",
       " 'dishwasher': [Synset('dishwasher.n.01'), 'n02691156'],\n",
       " 'dog': [Synset('dog.n.01'), 'n02691156'],\n",
       " 'dolphin': [Synset('dolphinfish.n.02'), 'n02691156'],\n",
       " 'donut': [Synset('doughnut.n.02'), 'n02691156'],\n",
       " 'door': [Synset('door.n.01'), 'n02691156'],\n",
       " 'dragon': [Synset('dragon.n.01'), 'n02691156'],\n",
       " 'dresser': [Synset('chest_of_drawers.n.01'), 'n02691156'],\n",
       " 'drill': [Synset('drill.n.01'), 'n02691156'],\n",
       " 'drums': [Synset('drum.n.01'), 'n02691156'],\n",
       " 'duck': [Synset('duck.n.01'), 'n02691156'],\n",
       " 'dumbbell': [Synset('dumbbell.n.01'), 'n02691156'],\n",
       " 'ear': [Synset('ear.n.01'), 'n02691156'],\n",
       " 'elbow': [Synset('elbow.n.01'), 'n02691156'],\n",
       " 'elephant': [Synset('elephant.n.01'), 'n02691156'],\n",
       " 'envelope': [Synset('envelope.n.01'), 'n02691156'],\n",
       " 'eraser': [Synset('eraser.n.01'), 'n02691156'],\n",
       " 'eye': [Synset('eye.n.01'), 'n02691156'],\n",
       " 'eyeglasses': [Synset('spectacles.n.01'), 'n02691156'],\n",
       " 'face': [Synset('face.n.01'), 'n02691156'],\n",
       " 'fan': [Synset('fan.n.01'), 'n02691156'],\n",
       " 'feather': [Synset('feather.n.01'), 'n02691156'],\n",
       " 'fence': [Synset('fence.n.01'), 'n02691156'],\n",
       " 'finger': [Synset('finger.n.01'), 'n02691156'],\n",
       " 'fireplace': [Synset('fireplace.n.01'), 'n02691156'],\n",
       " 'fish': [Synset('fish.n.01'), 'n02691156'],\n",
       " 'flamingo': [Synset('flamingo.n.01'), 'n02691156'],\n",
       " 'flashlight': [Synset('flashlight.n.01'), 'n02691156'],\n",
       " 'flower': [Synset('flower.n.01'), 'n02691156'],\n",
       " 'foot': [Synset('foot.n.01'), 'n02691156'],\n",
       " 'fork': [Synset('fork.n.01'), 'n02691156'],\n",
       " 'frog': [Synset('frog.n.01'), 'n02691156'],\n",
       " 'garden': [Synset('garden.n.01'), 'n02691156'],\n",
       " 'giraffe': [Synset('giraffe.n.01'), 'n02691156'],\n",
       " 'goatee': [Synset('goatee.n.01'), 'n02691156'],\n",
       " 'grapes': [Synset('grape.n.01'), 'n02691156'],\n",
       " 'grass': [Synset('grass.n.01'), 'n02691156'],\n",
       " 'guitar': [Synset('guitar.n.01'), 'n02691156'],\n",
       " 'hamburger': [Synset('hamburger.n.01'), 'n02691156'],\n",
       " 'hammer': [Synset('hammer.n.01'), 'n02691156'],\n",
       " 'hand': [Synset('hand.n.01'), 'n02691156'],\n",
       " 'harp': [Synset('harp.n.01'), 'n02691156'],\n",
       " 'hat': [Synset('hat.n.01'), 'n02691156'],\n",
       " 'headphones': [Synset('earphone.n.01'), 'n02691156'],\n",
       " 'hedgehog': [Synset('porcupine.n.01'), 'n02691156'],\n",
       " 'helicopter': [Synset('helicopter.n.01'), 'n02691156'],\n",
       " 'helmet': [Synset('helmet.n.01'), 'n02691156'],\n",
       " 'hexagon': [Synset('hexagon.n.01'), 'n02691156'],\n",
       " 'horse': [Synset('horse.n.01'), 'n02691156'],\n",
       " 'hospital': [Synset('hospital.n.01'), 'n02691156'],\n",
       " 'hourglass': [Synset('hourglass.n.01'), 'n02691156'],\n",
       " 'house': [Synset('house.n.01'), 'n02691156'],\n",
       " 'hurricane': [Synset('hurricane.n.01'), 'n02691156'],\n",
       " 'jacket': [Synset('jacket.n.01'), 'n02691156'],\n",
       " 'jail': [Synset('jail.n.01'), 'n02691156'],\n",
       " 'kangaroo': [Synset('kangaroo.n.01'), 'n02691156'],\n",
       " 'key': [Synset('key.n.01'), 'n02691156'],\n",
       " 'keyboard': [Synset('keyboard.n.01'), 'n02691156'],\n",
       " 'knee': [Synset('knee.n.01'), 'n02691156'],\n",
       " 'knife': [Synset('knife.n.01'), 'n02691156'],\n",
       " 'ladder': [Synset('ladder.n.01'), 'n02691156'],\n",
       " 'lantern': [Synset('lantern.n.01'), 'n02691156'],\n",
       " 'laptop': [Synset('laptop.n.01'), 'n02691156'],\n",
       " 'leaf': [Synset('leaf.n.01'), 'n02691156'],\n",
       " 'leg': [Synset('leg.n.01'), 'n02691156'],\n",
       " 'lighter': [Synset('igniter.n.01'), 'n02691156'],\n",
       " 'lighthouse': [Synset('beacon.n.03'), 'n02691156'],\n",
       " 'lightning': [Synset('lightning.n.01'), 'n02691156'],\n",
       " 'line': [Synset('line.n.01'), 'n02691156'],\n",
       " 'lion': [Synset('lion.n.01'), 'n02691156'],\n",
       " 'lipstick': [Synset('lipstick.n.01'), 'n02691156'],\n",
       " 'lobster': [Synset('lobster.n.01'), 'n02691156'],\n",
       " 'lollipop': [Synset('ice_lolly.n.01'), 'n02691156'],\n",
       " 'mailbox': [Synset('mailbox.n.01'), 'n02691156'],\n",
       " 'map': [Synset('map.n.01'), 'n02691156'],\n",
       " 'marker': [Synset('marker.n.01'), 'n02691156'],\n",
       " 'matches': [Synset('match.n.01'), 'n02691156'],\n",
       " 'megaphone': [Synset('megaphone.n.01'), 'n02691156'],\n",
       " 'mermaid': [Synset('mermaid.n.01'), 'n02691156'],\n",
       " 'microphone': [Synset('microphone.n.01'), 'n02691156'],\n",
       " 'microwave': [Synset('microwave.n.01'), 'n02691156'],\n",
       " 'monkey': [Synset('monkey.n.01'), 'n02691156'],\n",
       " 'moon': [Synset('moon.n.01'), 'n02691156'],\n",
       " 'mosquito': [Synset('mosquito.n.01'), 'n02691156'],\n",
       " 'motorbike': [Synset('minibike.n.01'), 'n02691156'],\n",
       " 'mountain': [Synset('mountain.n.01'), 'n02691156'],\n",
       " 'mouse': [Synset('mouse.n.01'), 'n02691156'],\n",
       " 'moustache': [Synset('mustache.n.01'), 'n02691156'],\n",
       " 'mouth': [Synset('mouth.n.01'), 'n02691156'],\n",
       " 'mug': [Synset('mug.n.01'), 'n02691156'],\n",
       " 'mushroom': [Synset('mushroom.n.01'), 'n02691156'],\n",
       " 'nail': [Synset('nail.n.01'), 'n02691156'],\n",
       " 'necklace': [Synset('necklace.n.01'), 'n02691156'],\n",
       " 'nose': [Synset('nose.n.01'), 'n02691156'],\n",
       " 'ocean': [Synset('ocean.n.01'), 'n02691156'],\n",
       " 'octagon': [Synset('octagon.n.01'), 'n02691156'],\n",
       " 'octopus': [Synset('octopus.n.01'), 'n02691156'],\n",
       " 'onion': [Synset('onion.n.01'), 'n02691156'],\n",
       " 'oven': [Synset('oven.n.01'), 'n02691156'],\n",
       " 'owl': [Synset('owl.n.01'), 'n02691156'],\n",
       " 'paintbrush': [Synset('paintbrush.n.01'), 'n02691156'],\n",
       " 'panda': [Synset('giant_panda.n.01'), 'n02691156'],\n",
       " 'pants': [Synset('bloomers.n.01'), 'n02691156'],\n",
       " 'parachute': [Synset('parachute.n.01'), 'n02691156'],\n",
       " 'parrot': [Synset('parrot.n.01'), 'n02691156'],\n",
       " 'passport': [Synset('pass.n.05'), 'n02691156'],\n",
       " 'peanut': [Synset('peanut.n.01'), 'n02691156'],\n",
       " 'pear': [Synset('pear.n.01'), 'n02691156'],\n",
       " 'peas': [Synset('pea.n.01'), 'n02691156'],\n",
       " 'pencil': [Synset('pencil.n.01'), 'n02691156'],\n",
       " 'penguin': [Synset('penguin.n.01'), 'n02691156'],\n",
       " 'piano': [Synset('piano.n.01'), 'n02691156'],\n",
       " 'pig': [Synset('hog.n.03'), 'n02691156'],\n",
       " 'pillow': [Synset('pillow.n.01'), 'n02691156'],\n",
       " 'pineapple': [Synset('pineapple.n.01'), 'n02691156'],\n",
       " 'pizza': [Synset('pizza.n.01'), 'n02691156'],\n",
       " 'pliers': [Synset('pliers.n.01'), 'n02691156'],\n",
       " 'pond': [Synset('pond.n.01'), 'n02691156'],\n",
       " 'pool': [Synset('pool.n.01'), 'n02691156'],\n",
       " 'popsicle': [Synset('ice_lolly.n.01'), 'n02691156'],\n",
       " 'postcard': [Synset('postcard.n.01'), 'n02691156'],\n",
       " 'potato': [Synset('potato.n.01'), 'n02691156'],\n",
       " 'purse': [Synset('bag.n.04'), 'n02691156'],\n",
       " 'rabbit': [Synset('rabbit.n.01'), 'n02691156'],\n",
       " 'raccoon': [Synset('raccoon.n.01'), 'n02691156'],\n",
       " 'radio': [Synset('radio.n.01'), 'n02691156'],\n",
       " 'rain': [Synset('rain.n.01'), 'n02691156'],\n",
       " 'rainbow': [Synset('rainbow.n.01'), 'n02691156'],\n",
       " 'rake': [Synset('rake.n.01'), 'n02691156'],\n",
       " 'rhinoceros': [Synset('rhinoceros.n.01'), 'n02691156'],\n",
       " 'rifle': [Synset('rifle.n.01'), 'n02691156'],\n",
       " 'river': [Synset('river.n.01'), 'n02691156'],\n",
       " 'sailboat': [Synset('sailboat.n.01'), 'n02691156'],\n",
       " 'sandwich': [Synset('sandwich.n.01'), 'n02691156'],\n",
       " 'saw': [Synset('proverb.n.01'), 'n02691156'],\n",
       " 'saxophone': [Synset('sax.n.02'), 'n02691156'],\n",
       " 'scissors': [Synset('scissors.n.01'), 'n02691156'],\n",
       " 'scorpion': [Synset('scorpio.n.01'), 'n02691156'],\n",
       " 'screwdriver': [Synset('screwdriver.n.01'), 'n02691156'],\n",
       " 'shark': [Synset('shark.n.01'), 'n02691156'],\n",
       " 'sheep': [Synset('sheep.n.01'), 'n02691156'],\n",
       " 'shoe': [Synset('shoe.n.01'), 'n02691156'],\n",
       " 'shorts': [Synset('short_pants.n.01'), 'n02691156'],\n",
       " 'shovel': [Synset('shovel.n.01'), 'n02691156'],\n",
       " 'sink': [Synset('sink.n.01'), 'n02691156'],\n",
       " 'skateboard': [Synset('skateboard.n.01'), 'n02691156'],\n",
       " 'skull': [Synset('skull.n.01'), 'n02691156'],\n",
       " 'skyscraper': [Synset('skyscraper.n.01'), 'n02691156'],\n",
       " 'snail': [Synset('snail.n.01'), 'n02691156'],\n",
       " 'snake': [Synset('snake.n.01'), 'n02691156'],\n",
       " 'snorkel': [Synset('snorkel.n.01'), 'n02691156'],\n",
       " 'snowflake': [Synset('snowflake.n.01'), 'n02691156'],\n",
       " 'snowman': [Synset('snowman.n.01'), 'n02691156'],\n",
       " 'sock': [Synset('sock.n.01'), 'n02691156'],\n",
       " 'speedboat': [Synset('speedboat.n.01'), 'n02691156'],\n",
       " 'spider': [Synset('spider.n.01'), 'n02691156'],\n",
       " 'spoon': [Synset('spoon.n.01'), 'n02691156'],\n",
       " 'spreadsheet': [Synset('spreadsheet.n.01'), 'n02691156'],\n",
       " 'square': [Synset('square.n.01'), 'n02691156'],\n",
       " 'squiggle': [Synset('squiggle.n.01'), 'n02691156'],\n",
       " 'squirrel': [Synset('squirrel.n.01'), 'n02691156'],\n",
       " 'stairs': [Synset('stairs.n.01'), 'n02691156'],\n",
       " 'star': [Synset('star.n.01'), 'n02691156'],\n",
       " 'steak': [Synset('steak.n.01'), 'n02691156'],\n",
       " 'stereo': [Synset('stereo.n.01'), 'n02691156'],\n",
       " 'stethoscope': [Synset('stethoscope.n.01'), 'n02691156'],\n",
       " 'stitches': [Synset('stitch.n.01'), 'n02691156'],\n",
       " 'stove': [Synset('stove.n.01'), 'n02691156'],\n",
       " 'strawberry': [Synset('strawberry.n.01'), 'n02691156'],\n",
       " 'streetlight': [Synset('streetlight.n.01'), 'n02691156'],\n",
       " 'submarine': [Synset('submarine.n.01'), 'n02691156'],\n",
       " 'suitcase': [Synset('bag.n.06'), 'n02691156'],\n",
       " 'sun': [Synset('sun.n.01'), 'n02691156'],\n",
       " 'swan': [Synset('swan.n.01'), 'n02691156'],\n",
       " 'sweater': [Synset('sweater.n.01'), 'n02691156'],\n",
       " 'sword': [Synset('sword.n.01'), 'n02691156'],\n",
       " 'syringe': [Synset('syringe.n.01'), 'n02691156'],\n",
       " 'table': [Synset('table.n.01'), 'n02691156'],\n",
       " 'teapot': [Synset('teapot.n.01'), 'n02691156'],\n",
       " 'telephone': [Synset('telephone.n.01'), 'n02691156'],\n",
       " 'television': [Synset('television.n.01'), 'n02691156'],\n",
       " 'tent': [Synset('tent.n.01'), 'n02691156'],\n",
       " 'tiger': [Synset('tiger.n.01'), 'n02691156'],\n",
       " 'toaster': [Synset('toaster.n.01'), 'n02691156'],\n",
       " 'toe': [Synset('toe.n.01'), 'n02691156'],\n",
       " 'toilet': [Synset('toilet.n.01'), 'n02691156'],\n",
       " 'tooth': [Synset('tooth.n.01'), 'n02691156'],\n",
       " 'toothbrush': [Synset('toothbrush.n.01'), 'n02691156'],\n",
       " 'toothpaste': [Synset('toothpaste.n.01'), 'n02691156'],\n",
       " 'tornado': [Synset('tornado.n.01'), 'n02691156'],\n",
       " 'tractor': [Synset('tractor.n.01'), 'n02691156'],\n",
       " 'train': [Synset('train.n.01'), 'n02691156'],\n",
       " 'tree': [Synset('tree.n.01'), 'n02691156'],\n",
       " 'triangle': [Synset('triangle.n.01'), 'n02691156'],\n",
       " 'trombone': [Synset('trombone.n.01'), 'n02691156'],\n",
       " 'truck': [Synset('truck.n.01'), 'n02691156'],\n",
       " 'trumpet': [Synset('cornet.n.01'), 'n02691156'],\n",
       " 't-shirt': [Synset('jersey.n.03'), 'n02691156'],\n",
       " 'umbrella': [Synset('umbrella.n.01'), 'n02691156'],\n",
       " 'underwear': [Synset('underwear.n.01'), 'n02691156'],\n",
       " 'van': [Synset('avant-garde.n.01'), 'n02691156'],\n",
       " 'vase': [Synset('vase.n.01'), 'n02691156'],\n",
       " 'violin': [Synset('violin.n.01'), 'n02691156'],\n",
       " 'watermelon': [Synset('watermelon.n.01'), 'n02691156'],\n",
       " 'whale': [Synset('giant.n.04'), 'n02691156'],\n",
       " 'wheel': [Synset('wheel.n.01'), 'n02691156'],\n",
       " 'windmill': [Synset('windmill.n.01'), 'n02691156'],\n",
       " 'wristwatch': [Synset('wristwatch.n.01'), 'n02691156'],\n",
       " 'yoga': [Synset('yoga.n.01'), 'n02691156'],\n",
       " 'zebra': [Synset('zebra.n.01'), 'n02691156'],\n",
       " 'zigzag': [Synset('zigzag.n.01'), 'n02691156']}"
      ]
     },
     "execution_count": 63,
     "metadata": {},
     "output_type": "execute_result"
    }
   ],
   "source": [
    "synsets"
   ]
  },
  {
   "cell_type": "code",
   "execution_count": 61,
   "metadata": {},
   "outputs": [
    {
     "data": {
      "text/plain": [
       "'n02691156'"
      ]
     },
     "execution_count": 61,
     "metadata": {},
     "output_type": "execute_result"
    }
   ],
   "source": [
    "offset\n"
   ]
  },
  {
   "cell_type": "code",
   "execution_count": 55,
   "metadata": {},
   "outputs": [],
   "source": []
  },
  {
   "cell_type": "code",
   "execution_count": 56,
   "metadata": {},
   "outputs": [],
   "source": []
  },
  {
   "cell_type": "code",
   "execution_count": 57,
   "metadata": {},
   "outputs": [
    {
     "data": {
      "text/plain": [
       "345"
      ]
     },
     "execution_count": 57,
     "metadata": {},
     "output_type": "execute_result"
    }
   ],
   "source": [
    "len(categories)"
   ]
  },
  {
   "cell_type": "code",
   "execution_count": 31,
   "metadata": {},
   "outputs": [],
   "source": [
    "import numpy as np\n",
    "import matplotlib.pyplot as plt\n",
    "!matplot"
   ]
  },
  {
   "cell_type": "code",
   "execution_count": 36,
   "metadata": {},
   "outputs": [
    {
     "data": {
      "text/plain": [
       "(784,)"
      ]
     },
     "execution_count": 36,
     "metadata": {},
     "output_type": "execute_result"
    }
   ],
   "source": [
    "bee = np.load(\"../dataset/toy/full_numpy_bitmap_bee.npy\")"
   ]
  },
  {
   "cell_type": "code",
   "execution_count": 43,
   "metadata": {},
   "outputs": [
    {
     "data": {
      "text/plain": [
       "(28, 28)"
      ]
     },
     "execution_count": 43,
     "metadata": {},
     "output_type": "execute_result"
    }
   ],
   "source": [
    "bee[0].reshape(28,28)"
   ]
  },
  {
   "cell_type": "code",
   "execution_count": 48,
   "metadata": {
    "scrolled": true
   },
   "outputs": [
    {
     "data": {
      "image/png": "[encoded data removed]",
      "text/plain": [
       "<Figure size 432x288 with 1 Axes>"
      ]
     },
     "metadata": {
      "needs_background": "light"
     },
     "output_type": "display_data"
    }
   ],
   "source": [
    "plt.imshow(bee[6].reshape(28,28))\n",
    "plt.show()"
   ]
  },
  {
   "cell_type": "code",
   "execution_count": null,
   "metadata": {},
   "outputs": [],
   "source": []
  }
 ],
 "metadata": {
  "kernelspec": {
   "display_name": "Python 3",
   "language": "python",
   "name": "python3"
  },
  "language_info": {
   "codemirror_mode": {
    "name": "ipython",
    "version": 3
   },
   "file_extension": ".py",
   "mimetype": "text/x-python",
   "name": "python",
   "nbconvert_exporter": "python",
   "pygments_lexer": "ipython3",
   "version": "3.6.6"
  },
  "latex_envs": {
   "LaTeX_envs_menu_present": true,
   "autoclose": false,
   "autocomplete": true,
   "bibliofile": "biblio.bib",
   "cite_by": "apalike",
   "current_citInitial": 1,
   "eqLabelWithNumbers": true,
   "eqNumInitial": 1,
   "hotkeys": {
    "equation": "Ctrl-E",
    "itemize": "Ctrl-I"
   },
   "labels_anchors": false,
   "latex_user_defs": false,
   "report_style_numbering": false,
   "user_envs_cfg": false
  }
 },
 "nbformat": 4,
 "nbformat_minor": 2
}
